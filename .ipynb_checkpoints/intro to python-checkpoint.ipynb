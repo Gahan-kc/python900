{
 "cells": [
  {
   "cell_type": "code",
   "execution_count": 1,
   "id": "f6df1446-eaa4-47f5-8bb6-6944d15e27e3",
   "metadata": {},
   "outputs": [
    {
     "data": {
      "text/plain": [
       "4"
      ]
     },
     "execution_count": 1,
     "metadata": {},
     "output_type": "execute_result"
    }
   ],
   "source": [
    "2+2"
   ]
  },
  {
   "cell_type": "code",
   "execution_count": 2,
   "id": "b32bd916-3b8f-464f-b2bd-e67f4e1c3646",
   "metadata": {},
   "outputs": [
    {
     "data": {
      "text/plain": [
       "0.03389830508474567"
      ]
     },
     "execution_count": 2,
     "metadata": {},
     "output_type": "execute_result"
    }
   ],
   "source": [
    "4-9*26/59"
   ]
  },
  {
   "cell_type": "code",
   "execution_count": 3,
   "id": "7678c9c2-2c1b-414e-9421-55520d7a3965",
   "metadata": {},
   "outputs": [
    {
     "data": {
      "text/plain": [
       "-3.0"
      ]
     },
     "execution_count": 3,
     "metadata": {},
     "output_type": "execute_result"
    }
   ],
   "source": [
    "6-9*9/9"
   ]
  },
  {
   "cell_type": "code",
   "execution_count": null,
   "id": "325e20dc-2829-46e3-a475-02fd7e885585",
   "metadata": {},
   "outputs": [],
   "source": []
  }
 ],
 "metadata": {
  "kernelspec": {
   "display_name": "Python 3 (ipykernel)",
   "language": "python",
   "name": "python3"
  },
  "language_info": {
   "codemirror_mode": {
    "name": "ipython",
    "version": 3
   },
   "file_extension": ".py",
   "mimetype": "text/x-python",
   "name": "python",
   "nbconvert_exporter": "python",
   "pygments_lexer": "ipython3",
   "version": "3.11.9"
  }
 },
 "nbformat": 4,
 "nbformat_minor": 5
}
